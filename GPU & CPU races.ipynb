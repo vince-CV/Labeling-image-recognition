{
 "cells": [
  {
   "cell_type": "markdown",
   "metadata": {},
   "source": [
    "## GPU vs CPU Performance using Tensorflow<br><br>\n",
    "\n",
    "> `Hardware specification`:<br>\n",
    "\n",
    "|Device|Maker|Model|\n",
    "|:---:|:---:|:---:|\n",
    "|**GPU**|_NVIDIA_|_GTX 1050Ti_|\n",
    "|**CPU**|_Intel_|_i7 8th Gen_|\n",
    "<br>\n",
    "<br>\n",
    "<br>\n",
    "> `Environment specification`:<br>\n",
    "\n",
    "|Envs|Version|\n",
    "|:---:|:---:|\n",
    "|**OS**|_windows 10_|\n",
    "|**Anaconda**|_conda 4.6.7_|\n",
    "|**Python**|_python 3.6.5_|\n",
    "|**CUDA**|_cuda 10.0_|\n",
    "|**cuDNN**|_cuDNN 7.5_|\n",
    "|**Tensorflow**|_tensorflow-gpu 1.12.0_|\n",
    "<br>\n",
    "<br>"
   ]
  },
  {
   "cell_type": "code",
   "execution_count": 21,
   "metadata": {},
   "outputs": [],
   "source": [
    "import tensorflow as tf\n",
    "import time"
   ]
  },
  {
   "cell_type": "code",
   "execution_count": 22,
   "metadata": {},
   "outputs": [],
   "source": [
    "size=500\n",
    "W = tf.random_normal([size, size],name='W')\n",
    "X = tf.random_normal([size, size],name='X')\n",
    "mul = tf.matmul(W, X,name='mul')\n",
    "sum_result = tf.reduce_sum(mul,name='sum')\n",
    "\n",
    "with tf.Session() as sess:\n",
    "    result = sess.run(sum_result)   "
   ]
  },
  {
   "cell_type": "code",
   "execution_count": 23,
   "metadata": {},
   "outputs": [],
   "source": [
    "size=500\n",
    "W = tf.random_normal([size, size],name='W')\n",
    "X = tf.random_normal([size, size],name='X')\n",
    "mul = tf.matmul(W, X,name='mul')\n",
    "sum_result = tf.reduce_sum(mul,name='sum')\n",
    "\n",
    "tfconfig=tf.ConfigProto(log_device_placement=True)\n",
    "with tf.Session(config=tfconfig) as sess:\n",
    "        result = sess.run(sum_result)"
   ]
  },
  {
   "cell_type": "code",
   "execution_count": 24,
   "metadata": {},
   "outputs": [],
   "source": [
    "size=500\n",
    "with tf.device(\"/cpu:0\"):\n",
    "    W = tf.random_normal([size, size],name='W')\n",
    "    X = tf.random_normal([size, size],name='X')\n",
    "    mul = tf.matmul(W, X,name='mul')\n",
    "    sum_result = tf.reduce_sum(mul,name='sum')\n",
    "\n",
    "tfconfig=tf.ConfigProto(log_device_placement=True)\n",
    "with tf.Session(config=tfconfig) as sess:\n",
    "        result = sess.run(sum_result)"
   ]
  },
  {
   "cell_type": "code",
   "execution_count": 25,
   "metadata": {},
   "outputs": [],
   "source": [
    "size=500\n",
    "with tf.device(\"/gpu:0\"):\n",
    "    W = tf.random_normal([size, size],name='W')\n",
    "    X = tf.random_normal([size, size],name='X')\n",
    "    mul = tf.matmul(W, X,name='mul')\n",
    "    sum_result = tf.reduce_sum(mul,name='sum')\n",
    "\n",
    "tfconfig=tf.ConfigProto(log_device_placement=True)\n",
    "with tf.Session(config=tfconfig) as sess:\n",
    "        result = sess.run(sum_result)"
   ]
  },
  {
   "cell_type": "code",
   "execution_count": 26,
   "metadata": {},
   "outputs": [],
   "source": [
    "def performanceTest(device_name,size):\n",
    "    with tf.device(device_name):\n",
    "        W = tf.random_normal([size, size],name='W')\n",
    "        X = tf.random_normal([size, size],name='X')\n",
    "        mul = tf.matmul(W, X,name='mul')\n",
    "        sum_result = tf.reduce_sum(mul,name='sum')\n",
    "\n",
    "    startTime = time.time() \n",
    "    tfconfig=tf.ConfigProto(log_device_placement=True)\n",
    "    with tf.Session(config=tfconfig) as sess:\n",
    "        result = sess.run(sum_result)\n",
    "    takeTimes=time.time()  - startTime   \n",
    "    print(device_name,\" size=\",size,\"Time:\",takeTimes )\n",
    "    return takeTimes"
   ]
  },
  {
   "cell_type": "code",
   "execution_count": 27,
   "metadata": {},
   "outputs": [
    {
     "name": "stdout",
     "output_type": "stream",
     "text": [
      "/gpu:0  size= 100 Time: 2.490124225616455\n",
      "/cpu:0  size= 100 Time: 2.5819900035858154\n"
     ]
    }
   ],
   "source": [
    "g=performanceTest(\"/gpu:0\",100)\n",
    "c=performanceTest(\"/cpu:0\",100)"
   ]
  },
  {
   "cell_type": "code",
   "execution_count": 28,
   "metadata": {},
   "outputs": [
    {
     "name": "stdout",
     "output_type": "stream",
     "text": [
      "/gpu:0  size= 1000 Time: 2.670898199081421\n",
      "/cpu:0  size= 1000 Time: 2.6419055461883545\n"
     ]
    }
   ],
   "source": [
    "g=performanceTest(\"/gpu:0\",1000)\n",
    "c=performanceTest(\"/cpu:0\",1000)"
   ]
  },
  {
   "cell_type": "code",
   "execution_count": 29,
   "metadata": {},
   "outputs": [
    {
     "name": "stdout",
     "output_type": "stream",
     "text": [
      "/gpu:0  size= 5000 Time: 2.839442253112793\n",
      "/cpu:0  size= 5000 Time: 4.825198650360107\n"
     ]
    }
   ],
   "source": [
    "g=performanceTest(\"/gpu:0\",5000)\n",
    "c=performanceTest(\"/cpu:0\",5000)"
   ]
  },
  {
   "cell_type": "code",
   "execution_count": 30,
   "metadata": {},
   "outputs": [
    {
     "name": "stdout",
     "output_type": "stream",
     "text": [
      "/gpu:0  size= 7000 Time: 3.1887106895446777\n",
      "/cpu:0  size= 7000 Time: 8.37363314628601\n"
     ]
    }
   ],
   "source": [
    "g=performanceTest(\"/gpu:0\",7000)\n",
    "c=performanceTest(\"/cpu:0\",7000)"
   ]
  },
  {
   "cell_type": "code",
   "execution_count": 31,
   "metadata": {
    "scrolled": true
   },
   "outputs": [
    {
     "name": "stdout",
     "output_type": "stream",
     "text": [
      "/gpu:0  size= 9000 Time: 3.731050491333008\n",
      "/cpu:0  size= 9000 Time: 14.69871473312378\n"
     ]
    }
   ],
   "source": [
    "g=performanceTest(\"/gpu:0\",9000)\n",
    "c=performanceTest(\"/cpu:0\",9000)"
   ]
  },
  {
   "cell_type": "code",
   "execution_count": 32,
   "metadata": {},
   "outputs": [
    {
     "name": "stdout",
     "output_type": "stream",
     "text": [
      "/gpu:0  size= 10000 Time: 4.276898145675659\n",
      "/cpu:0  size= 10000 Time: 17.725707292556763\n"
     ]
    }
   ],
   "source": [
    "g=performanceTest(\"/gpu:0\",10000)\n",
    "c=performanceTest(\"/cpu:0\",10000)"
   ]
  },
  {
   "cell_type": "markdown",
   "metadata": {},
   "source": [
    "#### Generate 0~9k matrix computations, print every 1000 computations."
   ]
  },
  {
   "cell_type": "code",
   "execution_count": 33,
   "metadata": {},
   "outputs": [
    {
     "name": "stdout",
     "output_type": "stream",
     "text": [
      "/gpu:0  size= 0 Time: 3.0908892154693604\n",
      "/cpu:0  size= 0 Time: 3.1419012546539307\n",
      "--\n",
      "/gpu:0  size= 1000 Time: 3.2802343368530273\n",
      "/cpu:0  size= 1000 Time: 3.3924858570098877\n",
      "--\n",
      "/gpu:0  size= 2000 Time: 3.353839159011841\n",
      "/cpu:0  size= 2000 Time: 3.517245054244995\n",
      "--\n",
      "/gpu:0  size= 3000 Time: 3.5472779273986816\n",
      "/cpu:0  size= 3000 Time: 3.9737608432769775\n",
      "--\n",
      "/gpu:0  size= 4000 Time: 3.7543892860412598\n",
      "/cpu:0  size= 4000 Time: 5.0125720500946045\n",
      "--\n",
      "/gpu:0  size= 5000 Time: 3.9413857460021973\n",
      "/cpu:0  size= 5000 Time: 5.621570825576782\n",
      "--\n",
      "/gpu:0  size= 6000 Time: 4.099165916442871\n",
      "/cpu:0  size= 6000 Time: 6.978004455566406\n",
      "--\n",
      "/gpu:0  size= 7000 Time: 4.421580791473389\n",
      "/cpu:0  size= 7000 Time: 9.037789821624756\n",
      "--\n",
      "/gpu:0  size= 8000 Time: 4.723394393920898\n",
      "/cpu:0  size= 8000 Time: 11.572550058364868\n",
      "--\n",
      "/gpu:0  size= 9000 Time: 5.092491626739502\n",
      "/cpu:0  size= 9000 Time: 14.889055728912354\n",
      "--\n"
     ]
    }
   ],
   "source": [
    "gpu_set=[];cpu_set=[];i_set=[]\n",
    "for i in range(0,9001,1000):\n",
    "    g=performanceTest(\"/gpu:0\",i)\n",
    "    c=performanceTest(\"/cpu:0\",i)\n",
    "    gpu_set.append(g);cpu_set.append(c);i_set.append(i)\n",
    "    print(\"--\")"
   ]
  },
  {
   "cell_type": "markdown",
   "metadata": {},
   "source": [
    "#### Plot time consumer GPU vs CPU."
   ]
  },
  {
   "cell_type": "code",
   "execution_count": 35,
   "metadata": {},
   "outputs": [
    {
     "data": {
      "text/plain": [
       "<matplotlib.legend.Legend at 0x1ec98f13828>"
      ]
     },
     "execution_count": 35,
     "metadata": {},
     "output_type": "execute_result"
    },
    {
     "data": {
      "image/png": "[encoded data removed]",
      "text/plain": [
       "<Figure size 432x288 with 1 Axes>"
      ]
     },
     "metadata": {},
     "output_type": "display_data"
    }
   ],
   "source": [
    "%matplotlib inline\n",
    "from pylab import *  \n",
    "mpl.rcParams['font.sans-serif'] = ['SimHei']\n",
    "\n",
    "import matplotlib.pyplot as plt\n",
    "fig = plt.gcf()\n",
    "fig.set_size_inches(6,4)\n",
    "plt.plot(i_set, gpu_set, label = 'gpu')\n",
    "plt.plot(i_set, cpu_set, label = 'cpu')\n",
    "plt.title('CPU vs GPU on Matrix Computation')\n",
    "plt.ylabel('time(s)')\n",
    "plt.xlabel('matrix size')\n",
    "plt.legend()"
   ]
  },
  {
   "cell_type": "code",
   "execution_count": null,
   "metadata": {},
   "outputs": [],
   "source": []
  }
 ],
 "metadata": {
  "kernelspec": {
   "display_name": "Python 3",
   "language": "python",
   "name": "python3"
  },
  "language_info": {
   "codemirror_mode": {
    "name": "ipython",
    "version": 3
   },
   "file_extension": ".py",
   "mimetype": "text/x-python",
   "name": "python",
   "nbconvert_exporter": "python",
   "pygments_lexer": "ipython3",
   "version": "3.6.5"
  }
 },
 "nbformat": 4,
 "nbformat_minor": 2
}
