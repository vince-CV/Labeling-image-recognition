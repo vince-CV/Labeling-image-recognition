{
 "cells": [
  {
   "cell_type": "markdown",
   "metadata": {},
   "source": [
    "## GPU vs CPU Performance using Tensorflow<br><br>\n",
    "\n",
    ">**_Dell XPS 15_**\n",
    "\n",
    ">> `Hardware specification`:<br>\n",
    "\n",
    "|Device|Maker|Model|\n",
    "|:---:|:---:|:---:|\n",
    "|**GPU**|_NVIDIA_|_GTX 1050Ti_|\n",
    "|**CPU**|_Intel_|_i7 2.2GHz_|\n",
    "|**RAM**|_Crucial_|_32GB_|\n",
    "<br>\n",
    "<br>\n",
    "<br>\n",
    ">> `Environment specification`:<br>\n",
    "\n",
    "|Envs|Version|\n",
    "|:---:|:---:|\n",
    "|**OS**|_windows 10_|\n",
    "|**Anaconda**|_conda 4.6.7_|\n",
    "|**Python**|_python 3.6.5_|\n",
    "|**CUDA**|_cuda 10.0_|\n",
    "|**cuDNN**|_cuDNN 7.5_|\n",
    "|**Tensorflow**|_tensorflow-gpu 1.12.0_|\n",
    "<br>\n",
    "<br>"
   ]
  },
  {
   "cell_type": "code",
   "execution_count": 1,
   "metadata": {},
   "outputs": [],
   "source": [
    "import tensorflow as tf\n",
    "import time"
   ]
  },
  {
   "cell_type": "code",
   "execution_count": 2,
   "metadata": {},
   "outputs": [],
   "source": [
    "size=500\n",
    "W = tf.random_normal([size, size],name='W')\n",
    "X = tf.random_normal([size, size],name='X')\n",
    "mul = tf.matmul(W, X,name='mul')\n",
    "sum_result = tf.reduce_sum(mul,name='sum')\n",
    "\n",
    "with tf.Session() as sess:\n",
    "    result = sess.run(sum_result)   "
   ]
  },
  {
   "cell_type": "code",
   "execution_count": 3,
   "metadata": {},
   "outputs": [],
   "source": [
    "size=500\n",
    "W = tf.random_normal([size, size],name='W')\n",
    "X = tf.random_normal([size, size],name='X')\n",
    "mul = tf.matmul(W, X,name='mul')\n",
    "sum_result = tf.reduce_sum(mul,name='sum')\n",
    "\n",
    "tfconfig=tf.ConfigProto(log_device_placement=True)\n",
    "with tf.Session(config=tfconfig) as sess:\n",
    "        result = sess.run(sum_result)"
   ]
  },
  {
   "cell_type": "code",
   "execution_count": 4,
   "metadata": {},
   "outputs": [],
   "source": [
    "size=500\n",
    "with tf.device(\"/cpu:0\"):\n",
    "    W = tf.random_normal([size, size],name='W')\n",
    "    X = tf.random_normal([size, size],name='X')\n",
    "    mul = tf.matmul(W, X,name='mul')\n",
    "    sum_result = tf.reduce_sum(mul,name='sum')\n",
    "\n",
    "tfconfig=tf.ConfigProto(log_device_placement=True)\n",
    "with tf.Session(config=tfconfig) as sess:\n",
    "        result = sess.run(sum_result)"
   ]
  },
  {
   "cell_type": "code",
   "execution_count": 5,
   "metadata": {},
   "outputs": [],
   "source": [
    "size=500\n",
    "with tf.device(\"/gpu:0\"):\n",
    "    W = tf.random_normal([size, size],name='W')\n",
    "    X = tf.random_normal([size, size],name='X')\n",
    "    mul = tf.matmul(W, X,name='mul')\n",
    "    sum_result = tf.reduce_sum(mul,name='sum')\n",
    "\n",
    "tfconfig=tf.ConfigProto(log_device_placement=True)\n",
    "with tf.Session(config=tfconfig) as sess:\n",
    "        result = sess.run(sum_result)"
   ]
  },
  {
   "cell_type": "code",
   "execution_count": 6,
   "metadata": {},
   "outputs": [],
   "source": [
    "def performanceTest(device_name,size):\n",
    "    with tf.device(device_name):\n",
    "        W = tf.random_normal([size, size],name='W')\n",
    "        X = tf.random_normal([size, size],name='X')\n",
    "        mul = tf.matmul(W, X,name='mul')\n",
    "        sum_result = tf.reduce_sum(mul,name='sum')\n",
    "\n",
    "    startTime = time.time() \n",
    "    tfconfig=tf.ConfigProto(log_device_placement=True)\n",
    "    with tf.Session(config=tfconfig) as sess:\n",
    "        result = sess.run(sum_result)\n",
    "    takeTimes=time.time()  - startTime   \n",
    "    print(device_name,\" size=\",size,\"Time:\",takeTimes )\n",
    "    return takeTimes"
   ]
  },
  {
   "cell_type": "code",
   "execution_count": 7,
   "metadata": {},
   "outputs": [
    {
     "name": "stdout",
     "output_type": "stream",
     "text": [
      "/gpu:0  size= 100 Time: 0.4439387321472168\n",
      "/cpu:0  size= 100 Time: 0.47129321098327637\n"
     ]
    }
   ],
   "source": [
    "g=performanceTest(\"/gpu:0\",100)\n",
    "c=performanceTest(\"/cpu:0\",100)"
   ]
  },
  {
   "cell_type": "code",
   "execution_count": 8,
   "metadata": {},
   "outputs": [
    {
     "name": "stdout",
     "output_type": "stream",
     "text": [
      "/gpu:0  size= 1000 Time: 0.6011128425598145\n",
      "/cpu:0  size= 1000 Time: 0.7020812034606934\n"
     ]
    }
   ],
   "source": [
    "g=performanceTest(\"/gpu:0\",1000)\n",
    "c=performanceTest(\"/cpu:0\",1000)"
   ]
  },
  {
   "cell_type": "code",
   "execution_count": 9,
   "metadata": {},
   "outputs": [
    {
     "name": "stdout",
     "output_type": "stream",
     "text": [
      "/gpu:0  size= 5000 Time: 0.937457799911499\n",
      "/cpu:0  size= 5000 Time: 2.6668293476104736\n"
     ]
    }
   ],
   "source": [
    "g=performanceTest(\"/gpu:0\",5000)\n",
    "c=performanceTest(\"/cpu:0\",5000)"
   ]
  },
  {
   "cell_type": "code",
   "execution_count": 10,
   "metadata": {},
   "outputs": [
    {
     "name": "stdout",
     "output_type": "stream",
     "text": [
      "/gpu:0  size= 7000 Time: 1.313485860824585\n",
      "/cpu:0  size= 7000 Time: 6.154573440551758\n"
     ]
    }
   ],
   "source": [
    "g=performanceTest(\"/gpu:0\",7000)\n",
    "c=performanceTest(\"/cpu:0\",7000)"
   ]
  },
  {
   "cell_type": "code",
   "execution_count": 11,
   "metadata": {
    "scrolled": true
   },
   "outputs": [
    {
     "name": "stdout",
     "output_type": "stream",
     "text": [
      "/gpu:0  size= 9000 Time: 1.9252538681030273\n",
      "/cpu:0  size= 9000 Time: 12.490543842315674\n"
     ]
    }
   ],
   "source": [
    "g=performanceTest(\"/gpu:0\",9000)\n",
    "c=performanceTest(\"/cpu:0\",9000)"
   ]
  },
  {
   "cell_type": "code",
   "execution_count": 12,
   "metadata": {},
   "outputs": [
    {
     "name": "stdout",
     "output_type": "stream",
     "text": [
      "/gpu:0  size= 10000 Time: 2.5072901248931885\n",
      "/cpu:0  size= 10000 Time: 17.652722358703613\n"
     ]
    }
   ],
   "source": [
    "g=performanceTest(\"/gpu:0\",10000)\n",
    "c=performanceTest(\"/cpu:0\",10000)"
   ]
  },
  {
   "cell_type": "markdown",
   "metadata": {},
   "source": [
    "#### Generate 0~9k matrix computations, print every 1000 computations."
   ]
  },
  {
   "cell_type": "code",
   "execution_count": 13,
   "metadata": {},
   "outputs": [
    {
     "name": "stdout",
     "output_type": "stream",
     "text": [
      "/gpu:0  size= 0 Time: 1.6782550811767578\n",
      "/cpu:0  size= 0 Time: 1.518620252609253\n",
      "--\n",
      "/gpu:0  size= 1000 Time: 1.6745610237121582\n",
      "/cpu:0  size= 1000 Time: 1.3064703941345215\n",
      "--\n",
      "/gpu:0  size= 2000 Time: 1.2795021533966064\n",
      "/cpu:0  size= 2000 Time: 1.4800398349761963\n",
      "--\n",
      "/gpu:0  size= 3000 Time: 1.4013595581054688\n",
      "/cpu:0  size= 3000 Time: 1.9158387184143066\n",
      "--\n",
      "/gpu:0  size= 4000 Time: 1.5378844738006592\n",
      "/cpu:0  size= 4000 Time: 2.7047228813171387\n",
      "--\n",
      "/gpu:0  size= 5000 Time: 1.7324748039245605\n",
      "/cpu:0  size= 5000 Time: 3.8357019424438477\n",
      "--\n",
      "/gpu:0  size= 6000 Time: 1.9567959308624268\n",
      "/cpu:0  size= 6000 Time: 5.754569053649902\n",
      "--\n",
      "/gpu:0  size= 7000 Time: 2.3158371448516846\n",
      "/cpu:0  size= 7000 Time: 9.471938848495483\n",
      "--\n",
      "/gpu:0  size= 8000 Time: 3.286205768585205\n",
      "/cpu:0  size= 8000 Time: 11.12223744392395\n",
      "--\n",
      "/gpu:0  size= 9000 Time: 3.0319271087646484\n",
      "/cpu:0  size= 9000 Time: 14.513128995895386\n",
      "--\n"
     ]
    }
   ],
   "source": [
    "gpu_set=[];cpu_set=[];i_set=[]\n",
    "for i in range(0,9001,1000):\n",
    "    g=performanceTest(\"/gpu:0\",i)\n",
    "    c=performanceTest(\"/cpu:0\",i)\n",
    "    gpu_set.append(g);cpu_set.append(c);i_set.append(i)\n",
    "    print(\"--\")"
   ]
  },
  {
   "cell_type": "markdown",
   "metadata": {},
   "source": [
    "#### Plot time consumer GPU vs CPU."
   ]
  },
  {
   "cell_type": "code",
   "execution_count": 14,
   "metadata": {},
   "outputs": [
    {
     "data": {
      "text/plain": [
       "<matplotlib.legend.Legend at 0x1fd84a5d4e0>"
      ]
     },
     "execution_count": 14,
     "metadata": {},
     "output_type": "execute_result"
    },
    {
     "data": {
      "image/png": "[encoded data removed]",
      "text/plain": [
       "<Figure size 432x288 with 1 Axes>"
      ]
     },
     "metadata": {
      "needs_background": "light"
     },
     "output_type": "display_data"
    }
   ],
   "source": [
    "%matplotlib inline\n",
    "from pylab import *  \n",
    "mpl.rcParams['font.sans-serif'] = ['SimHei']\n",
    "\n",
    "import matplotlib.pyplot as plt\n",
    "fig = plt.gcf()\n",
    "fig.set_size_inches(6,4)\n",
    "plt.plot(i_set, gpu_set, label = 'gpu')\n",
    "plt.plot(i_set, cpu_set, label = 'cpu')\n",
    "plt.title('CPU vs GPU on Matrix Computation')\n",
    "plt.ylabel('time(s)')\n",
    "plt.xlabel('matrix size')\n",
    "plt.legend()"
   ]
  },
  {
   "cell_type": "code",
   "execution_count": null,
   "metadata": {},
   "outputs": [],
   "source": []
  }
 ],
 "metadata": {
  "kernelspec": {
   "display_name": "Python 3",
   "language": "python",
   "name": "python3"
  },
  "language_info": {
   "codemirror_mode": {
    "name": "ipython",
    "version": 3
   },
   "file_extension": ".py",
   "mimetype": "text/x-python",
   "name": "python",
   "nbconvert_exporter": "python",
   "pygments_lexer": "ipython3",
   "version": "3.7.3"
  }
 },
 "nbformat": 4,
 "nbformat_minor": 2
}
