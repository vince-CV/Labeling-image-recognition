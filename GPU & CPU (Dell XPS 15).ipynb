{
 "cells": [
  {
   "cell_type": "markdown",
   "metadata": {},
   "source": [
    "## GPU vs CPU Performance using Tensorflow<br><br>\n",
    "\n",
    ">**_Dell XPS 15_**\n",
    "\n",
    ">> `Hardware specification`:<br>\n",
    "\n",
    "|Device|Maker|Model|\n",
    "|:---:|:---:|:---:|\n",
    "|**GPU**|_NVIDIA_|_GTX 1050Ti_|\n",
    "|**CPU**|_Intel_|_i7 2.2GHz_|\n",
    "<br>\n",
    "<br>\n",
    "<br>\n",
    ">> `Environment specification`:<br>\n",
    "\n",
    "|Envs|Version|\n",
    "|:---:|:---:|\n",
    "|**OS**|_windows 10_|\n",
    "|**Anaconda**|_conda 4.6.7_|\n",
    "|**Python**|_python 3.6.5_|\n",
    "|**CUDA**|_cuda 10.0_|\n",
    "|**cuDNN**|_cuDNN 7.5_|\n",
    "|**Tensorflow**|_tensorflow-gpu 1.12.0_|\n",
    "<br>\n",
    "<br>"
   ]
  },
  {
   "cell_type": "code",
   "execution_count": 1,
   "metadata": {},
   "outputs": [
    {
     "name": "stderr",
     "output_type": "stream",
     "text": [
      "C:\\Program Files (x86)\\Microsoft Visual Studio\\Shared\\Anaconda3_64\\lib\\site-packages\\h5py\\__init__.py:36: FutureWarning: Conversion of the second argument of issubdtype from `float` to `np.floating` is deprecated. In future, it will be treated as `np.float64 == np.dtype(float).type`.\n",
      "  from ._conv import register_converters as _register_converters\n"
     ]
    }
   ],
   "source": [
    "import tensorflow as tf\n",
    "import time"
   ]
  },
  {
   "cell_type": "code",
   "execution_count": 2,
   "metadata": {},
   "outputs": [],
   "source": [
    "size=500\n",
    "W = tf.random_normal([size, size],name='W')\n",
    "X = tf.random_normal([size, size],name='X')\n",
    "mul = tf.matmul(W, X,name='mul')\n",
    "sum_result = tf.reduce_sum(mul,name='sum')\n",
    "\n",
    "with tf.Session() as sess:\n",
    "    result = sess.run(sum_result)   "
   ]
  },
  {
   "cell_type": "code",
   "execution_count": 3,
   "metadata": {},
   "outputs": [],
   "source": [
    "size=500\n",
    "W = tf.random_normal([size, size],name='W')\n",
    "X = tf.random_normal([size, size],name='X')\n",
    "mul = tf.matmul(W, X,name='mul')\n",
    "sum_result = tf.reduce_sum(mul,name='sum')\n",
    "\n",
    "tfconfig=tf.ConfigProto(log_device_placement=True)\n",
    "with tf.Session(config=tfconfig) as sess:\n",
    "        result = sess.run(sum_result)"
   ]
  },
  {
   "cell_type": "code",
   "execution_count": 4,
   "metadata": {},
   "outputs": [],
   "source": [
    "size=500\n",
    "with tf.device(\"/cpu:0\"):\n",
    "    W = tf.random_normal([size, size],name='W')\n",
    "    X = tf.random_normal([size, size],name='X')\n",
    "    mul = tf.matmul(W, X,name='mul')\n",
    "    sum_result = tf.reduce_sum(mul,name='sum')\n",
    "\n",
    "tfconfig=tf.ConfigProto(log_device_placement=True)\n",
    "with tf.Session(config=tfconfig) as sess:\n",
    "        result = sess.run(sum_result)"
   ]
  },
  {
   "cell_type": "code",
   "execution_count": 5,
   "metadata": {},
   "outputs": [],
   "source": [
    "size=500\n",
    "with tf.device(\"/gpu:0\"):\n",
    "    W = tf.random_normal([size, size],name='W')\n",
    "    X = tf.random_normal([size, size],name='X')\n",
    "    mul = tf.matmul(W, X,name='mul')\n",
    "    sum_result = tf.reduce_sum(mul,name='sum')\n",
    "\n",
    "tfconfig=tf.ConfigProto(log_device_placement=True)\n",
    "with tf.Session(config=tfconfig) as sess:\n",
    "        result = sess.run(sum_result)"
   ]
  },
  {
   "cell_type": "code",
   "execution_count": 6,
   "metadata": {},
   "outputs": [],
   "source": [
    "def performanceTest(device_name,size):\n",
    "    with tf.device(device_name):\n",
    "        W = tf.random_normal([size, size],name='W')\n",
    "        X = tf.random_normal([size, size],name='X')\n",
    "        mul = tf.matmul(W, X,name='mul')\n",
    "        sum_result = tf.reduce_sum(mul,name='sum')\n",
    "\n",
    "    startTime = time.time() \n",
    "    tfconfig=tf.ConfigProto(log_device_placement=True)\n",
    "    with tf.Session(config=tfconfig) as sess:\n",
    "        result = sess.run(sum_result)\n",
    "    takeTimes=time.time()  - startTime   \n",
    "    print(device_name,\" size=\",size,\"Time:\",takeTimes )\n",
    "    return takeTimes"
   ]
  },
  {
   "cell_type": "code",
   "execution_count": 7,
   "metadata": {},
   "outputs": [
    {
     "name": "stdout",
     "output_type": "stream",
     "text": [
      "/gpu:0  size= 100 Time: 0.3830091953277588\n",
      "/cpu:0  size= 100 Time: 0.4712038040161133\n"
     ]
    }
   ],
   "source": [
    "g=performanceTest(\"/gpu:0\",100)\n",
    "c=performanceTest(\"/cpu:0\",100)"
   ]
  },
  {
   "cell_type": "code",
   "execution_count": 8,
   "metadata": {},
   "outputs": [
    {
     "name": "stdout",
     "output_type": "stream",
     "text": [
      "/gpu:0  size= 1000 Time: 0.5242938995361328\n",
      "/cpu:0  size= 1000 Time: 0.5796182155609131\n"
     ]
    }
   ],
   "source": [
    "g=performanceTest(\"/gpu:0\",1000)\n",
    "c=performanceTest(\"/cpu:0\",1000)"
   ]
  },
  {
   "cell_type": "code",
   "execution_count": 9,
   "metadata": {},
   "outputs": [
    {
     "name": "stdout",
     "output_type": "stream",
     "text": [
      "/gpu:0  size= 5000 Time: 0.8909614086151123\n",
      "/cpu:0  size= 5000 Time: 2.8846499919891357\n"
     ]
    }
   ],
   "source": [
    "g=performanceTest(\"/gpu:0\",5000)\n",
    "c=performanceTest(\"/cpu:0\",5000)"
   ]
  },
  {
   "cell_type": "code",
   "execution_count": 10,
   "metadata": {},
   "outputs": [
    {
     "name": "stdout",
     "output_type": "stream",
     "text": [
      "/gpu:0  size= 7000 Time: 1.3533763885498047\n",
      "/cpu:0  size= 7000 Time: 6.0031445026397705\n"
     ]
    }
   ],
   "source": [
    "g=performanceTest(\"/gpu:0\",7000)\n",
    "c=performanceTest(\"/cpu:0\",7000)"
   ]
  },
  {
   "cell_type": "code",
   "execution_count": 11,
   "metadata": {
    "scrolled": true
   },
   "outputs": [
    {
     "name": "stdout",
     "output_type": "stream",
     "text": [
      "/gpu:0  size= 9000 Time: 1.8693008422851562\n",
      "/cpu:0  size= 9000 Time: 12.266195297241211\n"
     ]
    }
   ],
   "source": [
    "g=performanceTest(\"/gpu:0\",9000)\n",
    "c=performanceTest(\"/cpu:0\",9000)"
   ]
  },
  {
   "cell_type": "code",
   "execution_count": 12,
   "metadata": {},
   "outputs": [
    {
     "name": "stdout",
     "output_type": "stream",
     "text": [
      "/gpu:0  size= 10000 Time: 2.227973699569702\n",
      "/cpu:0  size= 10000 Time: 16.08937406539917\n"
     ]
    }
   ],
   "source": [
    "g=performanceTest(\"/gpu:0\",10000)\n",
    "c=performanceTest(\"/cpu:0\",10000)"
   ]
  },
  {
   "cell_type": "markdown",
   "metadata": {},
   "source": [
    "#### Generate 0~9k matrix computations, print every 1000 computations."
   ]
  },
  {
   "cell_type": "code",
   "execution_count": 13,
   "metadata": {},
   "outputs": [
    {
     "name": "stdout",
     "output_type": "stream",
     "text": [
      "/gpu:0  size= 0 Time: 1.254274606704712\n",
      "/cpu:0  size= 0 Time: 1.190256118774414\n",
      "--\n",
      "/gpu:0  size= 1000 Time: 1.2418813705444336\n",
      "/cpu:0  size= 1000 Time: 1.097654104232788\n",
      "--\n",
      "/gpu:0  size= 2000 Time: 1.0823132991790771\n",
      "/cpu:0  size= 2000 Time: 1.2542474269866943\n",
      "--\n",
      "/gpu:0  size= 3000 Time: 1.1809935569763184\n",
      "/cpu:0  size= 3000 Time: 1.644972801208496\n",
      "--\n",
      "/gpu:0  size= 4000 Time: 1.339383602142334\n",
      "/cpu:0  size= 4000 Time: 2.332369804382324\n",
      "--\n",
      "/gpu:0  size= 5000 Time: 1.515031337738037\n",
      "/cpu:0  size= 5000 Time: 3.326023578643799\n",
      "--\n",
      "/gpu:0  size= 6000 Time: 1.704347848892212\n",
      "/cpu:0  size= 6000 Time: 4.829031944274902\n",
      "--\n",
      "/gpu:0  size= 7000 Time: 1.9381330013275146\n",
      "/cpu:0  size= 7000 Time: 6.752679109573364\n",
      "--\n",
      "/gpu:0  size= 8000 Time: 2.2342262268066406\n",
      "/cpu:0  size= 8000 Time: 9.348477840423584\n",
      "--\n",
      "/gpu:0  size= 9000 Time: 2.741851329803467\n",
      "/cpu:0  size= 9000 Time: 13.226650953292847\n",
      "--\n"
     ]
    }
   ],
   "source": [
    "gpu_set=[];cpu_set=[];i_set=[]\n",
    "for i in range(0,9001,1000):\n",
    "    g=performanceTest(\"/gpu:0\",i)\n",
    "    c=performanceTest(\"/cpu:0\",i)\n",
    "    gpu_set.append(g);cpu_set.append(c);i_set.append(i)\n",
    "    print(\"--\")"
   ]
  },
  {
   "cell_type": "markdown",
   "metadata": {},
   "source": [
    "#### Plot time consumer GPU vs CPU."
   ]
  },
  {
   "cell_type": "code",
   "execution_count": 14,
   "metadata": {},
   "outputs": [
    {
     "data": {
      "text/plain": [
       "<matplotlib.legend.Legend at 0x1c44e7337b8>"
      ]
     },
     "execution_count": 14,
     "metadata": {},
     "output_type": "execute_result"
    },
    {
     "data": {
      "image/png": "[encoded data removed]",
      "text/plain": [
       "<Figure size 432x288 with 1 Axes>"
      ]
     },
     "metadata": {},
     "output_type": "display_data"
    }
   ],
   "source": [
    "%matplotlib inline\n",
    "from pylab import *  \n",
    "mpl.rcParams['font.sans-serif'] = ['SimHei']\n",
    "\n",
    "import matplotlib.pyplot as plt\n",
    "fig = plt.gcf()\n",
    "fig.set_size_inches(6,4)\n",
    "plt.plot(i_set, gpu_set, label = 'gpu')\n",
    "plt.plot(i_set, cpu_set, label = 'cpu')\n",
    "plt.title('CPU vs GPU on Matrix Computation')\n",
    "plt.ylabel('time(s)')\n",
    "plt.xlabel('matrix size')\n",
    "plt.legend()"
   ]
  },
  {
   "cell_type": "code",
   "execution_count": null,
   "metadata": {},
   "outputs": [],
   "source": []
  }
 ],
 "metadata": {
  "kernelspec": {
   "display_name": "Python 3",
   "language": "python",
   "name": "python3"
  },
  "language_info": {
   "codemirror_mode": {
    "name": "ipython",
    "version": 3
   },
   "file_extension": ".py",
   "mimetype": "text/x-python",
   "name": "python",
   "nbconvert_exporter": "python",
   "pygments_lexer": "ipython3",
   "version": "3.6.5"
  }
 },
 "nbformat": 4,
 "nbformat_minor": 2
}
