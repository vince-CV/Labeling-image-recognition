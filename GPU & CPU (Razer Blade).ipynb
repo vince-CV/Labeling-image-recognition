{
 "cells": [
  {
   "cell_type": "markdown",
   "metadata": {},
   "source": [
    "## GPU vs CPU Performance using Tensorflow<br><br>\n",
    "\n",
    ">**_Razer Blade Pro_**\n",
    "\n",
    "\n",
    "> >`Hardware specification`:<br>\n",
    "\n",
    "|Device|Maker|Model|\n",
    "|:---:|:---:|:---:|\n",
    "|**GPU**|_NVIDIA_|_GTX 765M_|\n",
    "|**CPU**|_Intel_|_i7 2.4GHz_|\n",
    "<br>\n",
    "<br>\n",
    "<br>\n",
    "> >`Environment specification`:<br>\n",
    "\n",
    "|Envs|Version|\n",
    "|:---:|:---:|\n",
    "|**OS**|_windows 7_|\n",
    "|**Anaconda**|_conda 4.5.11_|\n",
    "|**Python**|_python 3.6.5_|\n",
    "|**CUDA**|_cuda 9.0_|\n",
    "|**cuDNN**|_cuDNN 7.1.4_|\n",
    "|**Tensorflow**|_tensorflow-gpu 1.9.0_|\n",
    "<br>\n",
    "<br>"
   ]
  },
  {
   "cell_type": "code",
   "execution_count": 1,
   "metadata": {},
   "outputs": [],
   "source": [
    "import tensorflow as tf\n",
    "import time"
   ]
  },
  {
   "cell_type": "code",
   "execution_count": 2,
   "metadata": {},
   "outputs": [],
   "source": [
    "size=500\n",
    "W = tf.random_normal([size, size],name='W')\n",
    "X = tf.random_normal([size, size],name='X')\n",
    "mul = tf.matmul(W, X,name='mul')\n",
    "sum_result = tf.reduce_sum(mul,name='sum')\n",
    "\n",
    "with tf.Session() as sess:\n",
    "    result = sess.run(sum_result)   "
   ]
  },
  {
   "cell_type": "code",
   "execution_count": 3,
   "metadata": {},
   "outputs": [],
   "source": [
    "size=500\n",
    "W = tf.random_normal([size, size],name='W')\n",
    "X = tf.random_normal([size, size],name='X')\n",
    "mul = tf.matmul(W, X,name='mul')\n",
    "sum_result = tf.reduce_sum(mul,name='sum')\n",
    "\n",
    "tfconfig=tf.ConfigProto(log_device_placement=True)\n",
    "with tf.Session(config=tfconfig) as sess:\n",
    "        result = sess.run(sum_result)"
   ]
  },
  {
   "cell_type": "code",
   "execution_count": 4,
   "metadata": {},
   "outputs": [],
   "source": [
    "size=500\n",
    "with tf.device(\"/cpu:0\"):\n",
    "    W = tf.random_normal([size, size],name='W')\n",
    "    X = tf.random_normal([size, size],name='X')\n",
    "    mul = tf.matmul(W, X,name='mul')\n",
    "    sum_result = tf.reduce_sum(mul,name='sum')\n",
    "\n",
    "tfconfig=tf.ConfigProto(log_device_placement=True)\n",
    "with tf.Session(config=tfconfig) as sess:\n",
    "        result = sess.run(sum_result)"
   ]
  },
  {
   "cell_type": "code",
   "execution_count": 5,
   "metadata": {},
   "outputs": [],
   "source": [
    "size=500\n",
    "with tf.device(\"/gpu:0\"):\n",
    "    W = tf.random_normal([size, size],name='W')\n",
    "    X = tf.random_normal([size, size],name='X')\n",
    "    mul = tf.matmul(W, X,name='mul')\n",
    "    sum_result = tf.reduce_sum(mul,name='sum')\n",
    "\n",
    "tfconfig=tf.ConfigProto(log_device_placement=True)\n",
    "with tf.Session(config=tfconfig) as sess:\n",
    "        result = sess.run(sum_result)"
   ]
  },
  {
   "cell_type": "code",
   "execution_count": 6,
   "metadata": {},
   "outputs": [],
   "source": [
    "def performanceTest(device_name,size):\n",
    "    with tf.device(device_name):\n",
    "        W = tf.random_normal([size, size],name='W')\n",
    "        X = tf.random_normal([size, size],name='X')\n",
    "        mul = tf.matmul(W, X,name='mul')\n",
    "        sum_result = tf.reduce_sum(mul,name='sum')\n",
    "\n",
    "    startTime = time.time() \n",
    "    tfconfig=tf.ConfigProto(log_device_placement=True)\n",
    "    with tf.Session(config=tfconfig) as sess:\n",
    "        result = sess.run(sum_result)\n",
    "    takeTimes=time.time()  - startTime   \n",
    "    print(device_name,\" size=\",size,\"Time:\",takeTimes )\n",
    "    return takeTimes"
   ]
  },
  {
   "cell_type": "code",
   "execution_count": 7,
   "metadata": {},
   "outputs": [
    {
     "name": "stdout",
     "output_type": "stream",
     "text": [
      "/gpu:0  size= 100 Time: 0.013000726699829102\n",
      "/cpu:0  size= 100 Time: 0.013000726699829102\n"
     ]
    }
   ],
   "source": [
    "g=performanceTest(\"/gpu:0\",100)\n",
    "c=performanceTest(\"/cpu:0\",100)"
   ]
  },
  {
   "cell_type": "code",
   "execution_count": 8,
   "metadata": {},
   "outputs": [
    {
     "name": "stdout",
     "output_type": "stream",
     "text": [
      "/gpu:0  size= 1000 Time: 0.02000117301940918\n",
      "/cpu:0  size= 1000 Time: 0.052002906799316406\n"
     ]
    }
   ],
   "source": [
    "g=performanceTest(\"/gpu:0\",1000)\n",
    "c=performanceTest(\"/cpu:0\",1000)"
   ]
  },
  {
   "cell_type": "code",
   "execution_count": 9,
   "metadata": {},
   "outputs": [
    {
     "name": "stdout",
     "output_type": "stream",
     "text": [
      "/gpu:0  size= 5000 Time: 0.4480254650115967\n",
      "/cpu:0  size= 5000 Time: 2.042116641998291\n"
     ]
    }
   ],
   "source": [
    "g=performanceTest(\"/gpu:0\",5000)\n",
    "c=performanceTest(\"/cpu:0\",5000)"
   ]
  },
  {
   "cell_type": "code",
   "execution_count": 10,
   "metadata": {},
   "outputs": [
    {
     "name": "stdout",
     "output_type": "stream",
     "text": [
      "/gpu:0  size= 7000 Time: 1.313075065612793\n",
      "/cpu:0  size= 7000 Time: 5.126293420791626\n"
     ]
    }
   ],
   "source": [
    "g=performanceTest(\"/gpu:0\",7000)\n",
    "c=performanceTest(\"/cpu:0\",7000)"
   ]
  },
  {
   "cell_type": "code",
   "execution_count": 11,
   "metadata": {
    "scrolled": true
   },
   "outputs": [
    {
     "name": "stdout",
     "output_type": "stream",
     "text": [
      "/gpu:0  size= 9000 Time: 2.866163969039917\n",
      "/cpu:0  size= 9000 Time: 10.867621660232544\n"
     ]
    }
   ],
   "source": [
    "g=performanceTest(\"/gpu:0\",9000)\n",
    "c=performanceTest(\"/cpu:0\",9000)"
   ]
  },
  {
   "cell_type": "code",
   "execution_count": 12,
   "metadata": {},
   "outputs": [],
   "source": [
    "#g=performanceTest(\"/gpu:0\",10000)\n",
    "#c=performanceTest(\"/cpu:0\",10000)"
   ]
  },
  {
   "cell_type": "markdown",
   "metadata": {},
   "source": [
    "GPU driver crashed!!!"
   ]
  },
  {
   "cell_type": "markdown",
   "metadata": {},
   "source": [
    "#### Generate 0~9k matrix computations, print every 1000 computations."
   ]
  },
  {
   "cell_type": "code",
   "execution_count": 13,
   "metadata": {},
   "outputs": [
    {
     "name": "stdout",
     "output_type": "stream",
     "text": [
      "/gpu:0  size= 0 Time: 0.022001266479492188\n",
      "/cpu:0  size= 0 Time: 0.016000747680664062\n",
      "--\n",
      "/gpu:0  size= 1000 Time: 0.020000934600830078\n",
      "/cpu:0  size= 1000 Time: 0.054003238677978516\n",
      "--\n",
      "/gpu:0  size= 2000 Time: 0.047002553939819336\n",
      "/cpu:0  size= 2000 Time: 0.19601130485534668\n",
      "--\n",
      "/gpu:0  size= 3000 Time: 0.1130061149597168\n",
      "/cpu:0  size= 3000 Time: 0.5000286102294922\n",
      "--\n",
      "/gpu:0  size= 4000 Time: 0.23501348495483398\n",
      "/cpu:0  size= 4000 Time: 1.1150634288787842\n",
      "--\n",
      "/gpu:0  size= 5000 Time: 0.47002673149108887\n",
      "/cpu:0  size= 5000 Time: 2.033116340637207\n",
      "--\n",
      "/gpu:0  size= 6000 Time: 0.7220413684844971\n",
      "/cpu:0  size= 6000 Time: 3.4141952991485596\n",
      "--\n",
      "/gpu:0  size= 7000 Time: 1.309074878692627\n",
      "/cpu:0  size= 7000 Time: 5.20329737663269\n",
      "--\n",
      "/gpu:0  size= 8000 Time: 1.657094955444336\n",
      "/cpu:0  size= 8000 Time: 7.885450839996338\n",
      "--\n"
     ]
    }
   ],
   "source": [
    "gpu_set=[];cpu_set=[];i_set=[]\n",
    "for i in range(0,8001,1000):\n",
    "    g=performanceTest(\"/gpu:0\",i)\n",
    "    c=performanceTest(\"/cpu:0\",i)\n",
    "    gpu_set.append(g);cpu_set.append(c);i_set.append(i)\n",
    "    print(\"--\")"
   ]
  },
  {
   "cell_type": "markdown",
   "metadata": {},
   "source": [
    "#### Plot time consumer GPU vs CPU."
   ]
  },
  {
   "cell_type": "code",
   "execution_count": 14,
   "metadata": {},
   "outputs": [
    {
     "data": {
      "text/plain": [
       "<matplotlib.legend.Legend at 0x1c0eec50>"
      ]
     },
     "execution_count": 14,
     "metadata": {},
     "output_type": "execute_result"
    },
    {
     "data": {
      "image/png": "[encoded data removed]",
      "text/plain": [
       "<Figure size 432x288 with 1 Axes>"
      ]
     },
     "metadata": {},
     "output_type": "display_data"
    }
   ],
   "source": [
    "%matplotlib inline\n",
    "from pylab import *  \n",
    "mpl.rcParams['font.sans-serif'] = ['SimHei']\n",
    "\n",
    "import matplotlib.pyplot as plt\n",
    "fig = plt.gcf()\n",
    "fig.set_size_inches(6,4)\n",
    "plt.plot(i_set, gpu_set, label = 'gpu')\n",
    "plt.plot(i_set, cpu_set, label = 'cpu')\n",
    "plt.title('CPU vs GPU on Matrix Computation')\n",
    "plt.ylabel('time(s)')\n",
    "plt.xlabel('matrix size')\n",
    "plt.legend()"
   ]
  },
  {
   "cell_type": "code",
   "execution_count": null,
   "metadata": {},
   "outputs": [],
   "source": []
  }
 ],
 "metadata": {
  "kernelspec": {
   "display_name": "Python 3",
   "language": "python",
   "name": "python3"
  },
  "language_info": {
   "codemirror_mode": {
    "name": "ipython",
    "version": 3
   },
   "file_extension": ".py",
   "mimetype": "text/x-python",
   "name": "python",
   "nbconvert_exporter": "python",
   "pygments_lexer": "ipython3",
   "version": "3.6.5"
  }
 },
 "nbformat": 4,
 "nbformat_minor": 2
}
