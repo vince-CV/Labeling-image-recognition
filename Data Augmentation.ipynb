{
 "cells": [
  {
   "cell_type": "markdown",
   "metadata": {},
   "source": [
    "Data Augmentation"
   ]
  },
  {
   "cell_type": "code",
   "execution_count": 6,
   "metadata": {},
   "outputs": [],
   "source": [
    "import numpy as np\n",
    "import cv2\n",
    "import random\n",
    "import threading\n",
    "import os\n",
    "import time\n",
    "import logging\n",
    "import tensorflow as tf\n",
    "import matplotlib.pyplot as plt\n",
    "from PIL import Image"
   ]
  },
  {
   "cell_type": "code",
   "execution_count": null,
   "metadata": {},
   "outputs": [],
   "source": [
    "def Rotation(image):\n",
    "    rows,cols,channel = image.shape\n",
    "    angle = np.random.uniform(low=-20.0, high=20.0)\n",
    "    M = cv2.getRotationMatrix2D((cols/2,rows/2),angle,1)\n",
    "    dst = cv2.warpAffine(image, M, (cols,rows))\n",
    "    return dst\n",
    "\n",
    "def Translate(image):\n",
    "    rows,cols,channel = image.shape\n",
    "    x_ = rows*0.1\n",
    "    y_ = cols*0.1\n",
    "    xscale = np.random.uniform(0.6, 1.2)\n",
    "    yscale = np.random.uniform(0.6, 1.2)\n",
    "    x = np.random.randint(-x_, x_)\n",
    "    y = np.random.randint(-y_, y_)\n",
    "    M = np.float32([[xscale, 0, x], [0, xscale, y]])\n",
    "    dst = cv2.warpAffine(image, M, (image.shape[1], image.shape[0]))\n",
    "    return dst\n",
    "\n",
    "\n",
    "def Crop(image):\n",
    "    rows,cols,channel = image.shape\n",
    "    L_delta = int(np.random.uniform(1, cols*0.15))\n",
    "    R_delta = int(np.random.uniform(1, cols*0.15))\n",
    "    U_delta = int(np.random.uniform(1, rows*0.15))\n",
    "    D_delta = int(np.random.uniform(1, rows*0.15))\n",
    "    TOP = 0 + L_delta\n",
    "    DOWN = rows - R_delta\n",
    "    LEFT = 0 + U_delta\n",
    "    RIGHT = cols - D_delta\n",
    "    crop_img = image[TOP:DOWN, LEFT:RIGHT]\n",
    "    dst = cv2.copyMakeBorder(crop_img, L_delta, R_delta, U_delta , D_delta, cv2.BORDER_CONSTANT, value=(0, 0, 0, 0))\n",
    "    return dst\n",
    "\n",
    "def Hsv(image):\n",
    "    hue_vari = 1\n",
    "    sat_vari = 0.5\n",
    "    val_vari = 0.5\n",
    "    hue_delta = np.random.randint(-hue_vari, hue_vari)\n",
    "    sat_mult = 1 + np.random.uniform(-sat_vari, sat_vari)\n",
    "    val_mult = 1 + np.random.uniform(-val_vari, val_vari)\n",
    "\n",
    "    img_hsv = cv2.cvtColor(image, cv2.COLOR_BGR2HSV).astype(np.float)\n",
    "    img_hsv[:, :, 0] = (img_hsv[:, :, 0] + hue_delta) % 180\n",
    "    img_hsv[:, :, 1] *= sat_mult\n",
    "    img_hsv[:, :, 2] *= val_mult\n",
    "    img_hsv[img_hsv > 255] = 255\n",
    "    \n",
    "    dst = cv2.cvtColor(np.round(img_hsv).astype(np.uint8), cv2.COLOR_HSV2BGR)\n",
    "    return dst\n",
    "\n",
    "def Gamma(image):\n",
    "    gamma_vari = 0.15\n",
    "    log_gamma_vari = np.log(gamma_vari)\n",
    "    alpha = np.random.uniform(-log_gamma_vari, log_gamma_vari)\n",
    "    gamma = np.exp(alpha)\n",
    "    gamma_table = [np.power(x / 255.0, gamma) * 255.0 for x in range(256)]\n",
    "    gamma_table = np.round(np.array(gamma_table)).astype(np.uint8)\n",
    "    dst = cv2.LUT(image, gamma_table)\n",
    "    return dst\n",
    "\n",
    "\n",
    "def Motion_blur(image):\n",
    "    image = np.array(image)\n",
    "    degree_ = 25\n",
    "    angle_ = 45\n",
    "    degree = int(np.random.uniform(1, degree_))\n",
    "    angle = int(np.random.uniform(-angle_, angle_))\n",
    "    M = cv2.getRotationMatrix2D((degree / 2, degree / 2), angle, 1)\n",
    "    motion_blur_kernel = np.diag(np.ones(degree))\n",
    "    motion_blur_kernel = cv2.warpAffine(motion_blur_kernel, M, (degree, degree))\n",
    "    motion_blur_kernel = motion_blur_kernel / degree\n",
    "    blurred = cv2.filter2D(image, -1, motion_blur_kernel)\n",
    "    cv2.normalize(blurred, blurred, 0, 255, cv2.NORM_MINMAX)\n",
    "    dst = np.array(blurred, dtype=np.uint8)\n",
    "    return dst\n",
    "\n",
    "def Gaussian_blur(image):\n",
    "\n",
    "    kernel = [random.randint(1, 50) * 2 + 1 for x in range(1)]\n",
    "    dst = cv2.GaussianBlur(image, ksize=(kernel[0], kernel[0]), sigmaX=0, sigmaY=0)\n",
    "    return dst\n",
    "\n",
    "\n",
    "def imageProcessing(image, image_name, function, times, write_path):  \n",
    "    for _i in range(0, times, 1):\n",
    "        if (function == 'Rotation'):\n",
    "            new_image = Rotation(image)\n",
    "        elif (function == 'Crop'):\n",
    "            new_image = Crop(image)\n",
    "        elif (function == 'Hsv'):\n",
    "            new_image = Hsv(image)\n",
    "        elif (function == 'Gamma'):\n",
    "            new_image = Gamma(image)\n",
    "        elif (function == 'Motion_blur'):\n",
    "            new_image = Motion_blur(image)\n",
    "        elif (function == 'Gaussian_blur'):\n",
    "            new_image = Gaussian_blur(image)\n",
    "        elif (function == 'Translate'):\n",
    "            new_image = Translate(image)\n",
    "        else:\n",
    "            new_image = image\n",
    "        \n",
    "        path = write_path+image_name+\"_\"+function+\"_\"+str(_i)+\".JPG\"\n",
    "        cv2.imwrite(path ,new_image)\n"
   ]
  },
  {
   "cell_type": "code",
   "execution_count": 8,
   "metadata": {},
   "outputs": [],
   "source": [
    "Init_Path = \"C:/Users/xwen2/Pictures/100cent/\"\n",
    "Mid_Path = \"C:/Users/xwen2/Pictures/Midway/\"\n",
    "Final_Path = \"C:/Users/xwen2/Pictures/A_100cent/\""
   ]
  },
  {
   "cell_type": "code",
   "execution_count": 9,
   "metadata": {},
   "outputs": [
    {
     "name": "stdout",
     "output_type": "stream",
     "text": [
      "Total number of pictures(Init_path):  154\n",
      "Done !!!\n"
     ]
    }
   ],
   "source": [
    "\n",
    "filelist = os.listdir(Init_Path)\n",
    "print(\"Total number of pictures(Init_path): \", len(filelist))\n",
    "for item in filelist:\n",
    "    Image = cv2.imread(Init_Path + item, 1)\n",
    "    imageProcessing(Image, item, \" \"       ,  1, Mid_Path)\n",
    "    imageProcessing(Image, item, \"Gamma\"   ,  1, Mid_Path)\n",
    "    imageProcessing(Image, item, \"Hsv\"     ,  1, Mid_Path)\n",
    "print(\"Done !!!\")\n"
   ]
  },
  {
   "cell_type": "code",
   "execution_count": 10,
   "metadata": {},
   "outputs": [
    {
     "name": "stdout",
     "output_type": "stream",
     "text": [
      "Total number of pictures (Midway1):  462\n",
      "Done !!!\n"
     ]
    }
   ],
   "source": [
    "\n",
    "filelist = os.listdir(Mid_Path)\n",
    "print(\"Total number of pictures (Midway): \", len(filelist))\n",
    "for item in filelist:\n",
    "    Image = cv2.imread(Mid_Path + item, 1)\n",
    "    imageProcessing(Image, item, \"Motion_blur\"  , 1, Mid_Path)  \n",
    "print(\"Done !!!\")\n"
   ]
  },
  {
   "cell_type": "code",
   "execution_count": 14,
   "metadata": {},
   "outputs": [
    {
     "name": "stdout",
     "output_type": "stream",
     "text": [
      "Total number of pictures (Midway1):  924\n",
      "Done !!!\n"
     ]
    }
   ],
   "source": [
    "\n",
    "filelist = os.listdir(Mid_Path)\n",
    "print(\"Total number of pictures (Midway): \", len(filelist))\n",
    "for item in filelist:\n",
    "    Image = cv2.imread(Mid_Path + item,1)\n",
    "    imageProcessing(Image, item, \" \"       ,  1, Final_Path)\n",
    "    imageProcessing(Image, item, \"Rotation\",  1, Final_Path)\n",
    "print(\"Done !!!\")\n",
    "    "
   ]
  },
  {
   "cell_type": "code",
   "execution_count": 15,
   "metadata": {},
   "outputs": [
    {
     "name": "stdout",
     "output_type": "stream",
     "text": [
      "Total number of pictures (Midway2):  2772\n"
     ]
    },
    {
     "ename": "KeyboardInterrupt",
     "evalue": "",
     "output_type": "error",
     "traceback": [
      "\u001b[1;31m---------------------------------------------------------------------------\u001b[0m",
      "\u001b[1;31mKeyboardInterrupt\u001b[0m                         Traceback (most recent call last)",
      "\u001b[1;32m<ipython-input-15-59fba63a67dc>\u001b[0m in \u001b[0;36m<module>\u001b[1;34m\u001b[0m\n\u001b[0;32m      4\u001b[0m \u001b[1;32mfor\u001b[0m \u001b[0mitem\u001b[0m \u001b[1;32min\u001b[0m \u001b[0mfilelist\u001b[0m\u001b[1;33m:\u001b[0m\u001b[1;33m\u001b[0m\u001b[0m\n\u001b[0;32m      5\u001b[0m     \u001b[0mImage\u001b[0m \u001b[1;33m=\u001b[0m \u001b[0mcv2\u001b[0m\u001b[1;33m.\u001b[0m\u001b[0mimread\u001b[0m\u001b[1;33m(\u001b[0m\u001b[0mFinal_Path\u001b[0m \u001b[1;33m+\u001b[0m \u001b[0mitem\u001b[0m\u001b[1;33m,\u001b[0m \u001b[1;36m1\u001b[0m\u001b[1;33m)\u001b[0m\u001b[1;33m\u001b[0m\u001b[0m\n\u001b[1;32m----> 6\u001b[1;33m     \u001b[0mimageProcessing\u001b[0m\u001b[1;33m(\u001b[0m\u001b[0mImage\u001b[0m\u001b[1;33m,\u001b[0m \u001b[0mitem\u001b[0m\u001b[1;33m,\u001b[0m \u001b[1;34m\"Translate\"\u001b[0m\u001b[1;33m,\u001b[0m \u001b[1;36m3\u001b[0m\u001b[1;33m,\u001b[0m\u001b[0mFinal_Path\u001b[0m\u001b[1;33m)\u001b[0m\u001b[1;33m\u001b[0m\u001b[0m\n\u001b[0m\u001b[0;32m      7\u001b[0m \u001b[0mprint\u001b[0m\u001b[1;33m(\u001b[0m\u001b[1;34m\"Augmentation process done !!!\"\u001b[0m\u001b[1;33m)\u001b[0m\u001b[1;33m\u001b[0m\u001b[0m\n",
      "\u001b[1;32m<ipython-input-7-581d845cfe8a>\u001b[0m in \u001b[0;36mimageProcessing\u001b[1;34m(image, image_name, function, times, write_path)\u001b[0m\n\u001b[0;32m    103\u001b[0m \u001b[1;33m\u001b[0m\u001b[0m\n\u001b[0;32m    104\u001b[0m         \u001b[0mpath\u001b[0m \u001b[1;33m=\u001b[0m \u001b[0mwrite_path\u001b[0m\u001b[1;33m+\u001b[0m\u001b[0mimage_name\u001b[0m\u001b[1;33m+\u001b[0m\u001b[1;34m\"_\"\u001b[0m\u001b[1;33m+\u001b[0m\u001b[0mfunction\u001b[0m\u001b[1;33m+\u001b[0m\u001b[1;34m\"_\"\u001b[0m\u001b[1;33m+\u001b[0m\u001b[0mstr\u001b[0m\u001b[1;33m(\u001b[0m\u001b[0m_i\u001b[0m\u001b[1;33m)\u001b[0m\u001b[1;33m+\u001b[0m\u001b[1;34m\".JPG\"\u001b[0m\u001b[1;33m\u001b[0m\u001b[0m\n\u001b[1;32m--> 105\u001b[1;33m         \u001b[0mcv2\u001b[0m\u001b[1;33m.\u001b[0m\u001b[0mimwrite\u001b[0m\u001b[1;33m(\u001b[0m\u001b[0mpath\u001b[0m \u001b[1;33m,\u001b[0m\u001b[0mnew_image\u001b[0m\u001b[1;33m)\u001b[0m\u001b[1;33m\u001b[0m\u001b[0m\n\u001b[0m",
      "\u001b[1;31mKeyboardInterrupt\u001b[0m: "
     ]
    }
   ],
   "source": [
    "\n",
    "filelist = os.listdir(Final_Path)\n",
    "print(\"Total number of pictures (Final_Path): \", len(filelist))\n",
    "for item in filelist:\n",
    "    Image = cv2.imread(Final_Path + item, 1) \n",
    "    imageProcessing(Image, item, \" \", 1,Final_Path)\n",
    "    imageProcessing(Image, item, \"Translate\", 2,Final_Path)\n",
    "print(\"Augmentation process done !!!\")\n"
   ]
  },
  {
   "cell_type": "code",
   "execution_count": null,
   "metadata": {},
   "outputs": [],
   "source": [
    "train_dir = 'D:/picture/train/'\n",
    "#存放用来训练的图片的路径\n",
    "\n",
    "def get_files(file_dir):\n",
    "    A5 = []\n",
    "    label_A5 = []\n",
    "    A6 = []\n",
    "    label_A6 = []\n",
    "    SEG = []\n",
    "    label_SEG = []\n",
    "    SUM = []\n",
    "    label_SUM = []\n",
    "    LTAX1 = []\n",
    "    label_LTAX1 = []\n",
    "    #定义存放各类别数据和对应标签的列表，列表名对应你所需要分类的列别名\n",
    "    #A5，A6等是我的数据集中要分类图片的名字\n",
    "\n",
    "\n",
    "    for file in os.listdir(file_dir):\n",
    "        name = file.split(sep='.')\n",
    "        if name[0]=='A5':\n",
    "            A5.append(file_dir+file)\n",
    "            label_A5.append(0)\n",
    "        elif name[0] == 'A6':\n",
    "            A6.append(file_dir+file)\n",
    "            label_A6.append(1)\n",
    "        elif name[0]=='LTAX1':\n",
    "            LTAX1.append(file_dir+file)\n",
    "            label_LTAX1.append(2)\n",
    "        elif name[0] == 'SEG':\n",
    "            SEG.append(file_dir+file)\n",
    "            label_SEG.append(3)\n",
    "        else:\n",
    "            SUM.append(file_dir+file)\n",
    "            label_SUM.append(4)\n",
    "       #根据图片的名称，对图片进行提取，这里用.来进行划分\n",
    "       ###这里一定要注意，如果是多分类问题的话，一定要将分类的标签从0开始。这里是五类，标签为0，1，2，3，4。我之前以为这个标签应该是随便设置的，结果就出现了Target[0] out of range的错误。\n",
    "\n",
    "    print('There are %d A5\\nThere are %d A6\\nThere are %d LTAX1\\nThere are %d SEG\\nThere are %d SUM' \\\n",
    "          %(len(A5),len(A6),len(LTAX1),len(SEG),len(SUM)))\n",
    "   #打印出提取图片的情况，检测是否正确提取\n",
    "\n",
    "    image_list = np.hstack((A5,A6,LTAX1,SEG,SUM))\n",
    "    label_list = np.hstack((label_A5,label_A6,label_LTAX1,label_SEG,label_SUM))\n",
    "    #用来水平合并数组\n",
    "\n",
    "    temp = np.array([image_list,label_list])\n",
    "    temp = temp.transpose()\n",
    "    np.random.shuffle(temp)\n",
    "\n",
    "    image_list = list(temp[:,0])\n",
    "    label_list = list(temp[:,1])\n",
    "    label_list = [int(i) for i in label_list]\n",
    "\n",
    "    return  image_list,label_list\n"
   ]
  }
 ],
 "metadata": {
  "kernelspec": {
   "display_name": "Python 3",
   "language": "python",
   "name": "python3"
  },
  "language_info": {
   "codemirror_mode": {
    "name": "ipython",
    "version": 3
   },
   "file_extension": ".py",
   "mimetype": "text/x-python",
   "name": "python",
   "nbconvert_exporter": "python",
   "pygments_lexer": "ipython3",
   "version": "3.6.5"
  }
 },
 "nbformat": 4,
 "nbformat_minor": 2
}
